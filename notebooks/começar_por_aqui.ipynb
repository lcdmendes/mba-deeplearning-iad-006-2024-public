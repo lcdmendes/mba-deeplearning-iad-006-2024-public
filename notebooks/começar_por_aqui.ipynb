{
 "cells": [
  {
   "cell_type": "markdown",
   "metadata": {},
   "source": [
    "Aqui está um código simples com sklearn para testar a execução de Python no Codespace com uma Decision Tree:"
   ]
  },
  {
   "cell_type": "code",
   "execution_count": 3,
   "metadata": {},
   "outputs": [
    {
     "name": "stdout",
     "output_type": "stream",
     "text": [
      "Precisão : 1.0\n"
     ]
    }
   ],
   "source": [
    "import numpy as np\n",
    "from sklearn.tree import DecisionTreeClassifier\n",
    "from sklearn.datasets import load_iris\n",
    "from sklearn.model_selection import train_test_split\n",
    "\n",
    "# Carregar o dataset Iris\n",
    "iris = load_iris()\n",
    "X = iris.data\n",
    "y = iris.target\n",
    "\n",
    "# Dividir o dataset em treinamento e teste\n",
    "X_train, X_test, y_train, y_test = train_test_split(X, y, test_size=0.2, random_state=42)\n",
    "\n",
    "# Criar uma Decision Tree\n",
    "clf = DecisionTreeClassifier(random_state=42)\n",
    "\n",
    "# Treinar a Decision Tree\n",
    "clf.fit(X_train, y_train)\n",
    "\n",
    "# Prever as classes para o conjunto de teste\n",
    "y_pred = clf.predict(X_test)\n",
    "\n",
    "# Imprimir a precisão da Decision Tree\n",
    "print(\"Precisão:\", clf.score(X_test, y_test))"
   ]
  },
  {
   "cell_type": "markdown",
   "metadata": {},
   "source": [
    "# Exercício 1"
   ]
  },
  {
   "cell_type": "code",
   "execution_count": 15,
   "metadata": {},
   "outputs": [
    {
     "name": "stdout",
     "output_type": "stream",
     "text": [
      "Melhores Parâmetros: {'max_depth': None, 'min_samples_leaf': 1, 'min_samples_split': 2}\n",
      "Acurácia: 0.8694444444444445\n",
      "[[33  0  1  0  0  1  0  0  0  1]\n",
      " [ 0 32  2  0  1  0  0  0  1  1]\n",
      " [ 0  2 32  0  0  0  0  0  1  0]\n",
      " [ 0  0  0 35  0  0  0  1  0  1]\n",
      " [ 0  1  0  0 31  0  2  1  0  1]\n",
      " [ 0  0  0  1  0 34  0  0  1  0]\n",
      " [ 0  1  0  0  3  1 31  0  0  0]\n",
      " [ 0  1  0  1  1  0  0 31  2  0]\n",
      " [ 0  2  0  1  1  0  0  1 28  2]\n",
      " [ 1  3  0  1  0  2  0  2  1 26]]\n",
      "              precision    recall  f1-score   support\n",
      "\n",
      "           0       0.97      0.92      0.94        36\n",
      "           1       0.76      0.86      0.81        37\n",
      "           2       0.91      0.91      0.91        35\n",
      "           3       0.90      0.95      0.92        37\n",
      "           4       0.84      0.86      0.85        36\n",
      "           5       0.89      0.94      0.92        36\n",
      "           6       0.94      0.86      0.90        36\n",
      "           7       0.86      0.86      0.86        36\n",
      "           8       0.82      0.80      0.81        35\n",
      "           9       0.81      0.72      0.76        36\n",
      "\n",
      "    accuracy                           0.87       360\n",
      "   macro avg       0.87      0.87      0.87       360\n",
      "weighted avg       0.87      0.87      0.87       360\n",
      "\n"
     ]
    }
   ],
   "source": [
    "from sklearn.datasets import load_digits\n",
    "from sklearn import tree\n",
    "from sklearn.model_selection import train_test_split\n",
    "from sklearn.metrics import accuracy_score, classification_report, confusion_matrix\n",
    "from sklearn.model_selection import GridSearchCV\n",
    "import pandas as pd\n",
    "import pickle as pk\n",
    "import matplotlib.pyplot as plt\n",
    "import seaborn as sns\n",
    "\n",
    "\n",
    "X = load_digits().data\n",
    "y = load_digits().target\n",
    "\n",
    "X_train, X_test, y_train, y_test = train_test_split(X, y, test_size=0.2, stratify=y)\n",
    "\n",
    "# Ajustando os parâmetros\n",
    "param_grid = {\n",
    "    'max_depth': [5, 10, 15, 20, 25, None],\n",
    "    'min_samples_split': [2, 5, 10],\n",
    "    'min_samples_leaf': [1, 2, 4]\n",
    "}\n",
    "\n",
    "grid_search = GridSearchCV(estimator=tree.DecisionTreeClassifier(), param_grid=param_grid, cv=5, n_jobs=-1, verbose=0)\n",
    "\n",
    "# Treinar o modelo de busca com GridSearch\n",
    "grid_search.fit(X_train, y_train)\n",
    "\n",
    "# Melhor modelo encontrado\n",
    "best_model1 = grid_search.best_estimator_\n",
    "\n",
    "# Salvar o melhor modelo\n",
    "with open('modelo_ex1.pkl', 'wb') as pickle_file:\n",
    "    pk.dump(best_model1, pickle_file)\n",
    "\n",
    "# Fazer previsões com o melhor modelo\n",
    "y_pred_best = best_model1.predict(X_test)\n",
    "\n",
    "# Avaliar a precisão do melhor modelo\n",
    "print(f'Melhores Parâmetros: {grid_search.best_params_}')\n",
    "\n",
    "accuracy = accuracy_score(y_test, y_pred_best)\n",
    "print(f'Acurácia: {accuracy}')\n",
    "\n",
    "print(confusion_matrix(y_test, y_pred_best))\n",
    "print(classification_report(y_test, y_pred_best))"
   ]
  },
  {
   "cell_type": "markdown",
   "metadata": {},
   "source": [
    "# Exercício 2\n",
    "\n",
    "## Random Forest"
   ]
  },
  {
   "cell_type": "code",
   "execution_count": 18,
   "metadata": {},
   "outputs": [
    {
     "name": "stdout",
     "output_type": "stream",
     "text": [
      "Melhores Parâmetros: {'max_depth': None, 'min_samples_leaf': 1, 'min_samples_split': 5, 'n_estimators': 200}\n",
      "Acurácia: 0.975\n",
      "[[35  0  0  0  1  0  0  0  0  0]\n",
      " [ 0 37  0  0  0  0  0  0  0  0]\n",
      " [ 0  0 35  0  0  0  0  0  0  0]\n",
      " [ 0  0  0 37  0  0  0  0  0  0]\n",
      " [ 0  0  0  0 35  0  0  1  0  0]\n",
      " [ 0  0  0  0  0 36  0  0  0  0]\n",
      " [ 1  1  0  0  0  0 34  0  0  0]\n",
      " [ 0  0  0  0  0  0  0 36  0  0]\n",
      " [ 0  1  1  1  0  0  0  0 32  0]\n",
      " [ 0  0  0  1  0  0  0  1  0 34]]\n",
      "              precision    recall  f1-score   support\n",
      "\n",
      "           0       0.97      0.97      0.97        36\n",
      "           1       0.95      1.00      0.97        37\n",
      "           2       0.97      1.00      0.99        35\n",
      "           3       0.95      1.00      0.97        37\n",
      "           4       0.97      0.97      0.97        36\n",
      "           5       1.00      1.00      1.00        36\n",
      "           6       1.00      0.94      0.97        36\n",
      "           7       0.95      1.00      0.97        36\n",
      "           8       1.00      0.91      0.96        35\n",
      "           9       1.00      0.94      0.97        36\n",
      "\n",
      "    accuracy                           0.97       360\n",
      "   macro avg       0.98      0.97      0.97       360\n",
      "weighted avg       0.98      0.97      0.97       360\n",
      "\n"
     ]
    }
   ],
   "source": [
    "from sklearn.ensemble import RandomForestClassifier\n",
    "\n",
    "# Ajustando os parâmetros\n",
    "param_grid = {\n",
    "    'n_estimators': [100, 200, 300],\n",
    "    'max_depth': [5, 15, 25, None],\n",
    "    'min_samples_split': [2, 5, 10],\n",
    "    'min_samples_leaf': [1, 2, 4]\n",
    "    #'max_features': ['auto', 'sqrt', 'log2'],\n",
    "    #'bootstrap': [True, False]\n",
    "}\n",
    "\n",
    "grid_search = GridSearchCV(estimator=RandomForestClassifier(), param_grid=param_grid, cv=5, n_jobs=-1, verbose=0)\n",
    "\n",
    "# Treinar o modelo de busca com GridSearch\n",
    "grid_search.fit(X_train, y_train)\n",
    "\n",
    "# Melhor modelo encontrado\n",
    "best_model2a = grid_search.best_estimator_\n",
    "\n",
    "# Salvar modelo\n",
    "with open('modelo_ex21a.pkl', 'wb') as pickle_file:\n",
    "    pk.dump(best_model2a, pickle_file)\n",
    "\n",
    "y_pred_best2a = best_model2a.predict(X_test)\n",
    "\n",
    "print(f'Melhores Parâmetros: {grid_search.best_params_}')\n",
    "print(f'Acurácia: {accuracy_score(y_test, y_pred_best2a)}')\n",
    "\n",
    "print(confusion_matrix(y_test, y_pred_best2a))\n",
    "print(classification_report(y_test, y_pred_best2a))"
   ]
  },
  {
   "cell_type": "markdown",
   "metadata": {},
   "source": [
    "## XGBoost"
   ]
  },
  {
   "cell_type": "code",
   "execution_count": 24,
   "metadata": {},
   "outputs": [
    {
     "name": "stdout",
     "output_type": "stream",
     "text": [
      "Melhores Parâmetros: {'learning_rate': 0.1, 'max_depth': 15, 'min_child_weight': 3, 'n_estimators': 200}\n",
      "Acurácia: 0.9666666666666667\n",
      "[[35  0  0  0  1  0  0  0  0  0]\n",
      " [ 0 37  0  0  0  0  0  0  0  0]\n",
      " [ 0  0 34  0  0  0  0  0  1  0]\n",
      " [ 0  0  0 37  0  0  0  0  0  0]\n",
      " [ 0  0  0  0 35  0  0  1  0  0]\n",
      " [ 0  0  0  0  0 36  0  0  0  0]\n",
      " [ 1  2  0  0  0  0 33  0  0  0]\n",
      " [ 0  0  0  0  0  0  0 36  0  0]\n",
      " [ 0  1  0  1  0  1  0  0 32  0]\n",
      " [ 1  0  0  1  0  0  0  1  0 33]]\n",
      "              precision    recall  f1-score   support\n",
      "\n",
      "           0       0.95      0.97      0.96        36\n",
      "           1       0.93      1.00      0.96        37\n",
      "           2       1.00      0.97      0.99        35\n",
      "           3       0.95      1.00      0.97        37\n",
      "           4       0.97      0.97      0.97        36\n",
      "           5       0.97      1.00      0.99        36\n",
      "           6       1.00      0.92      0.96        36\n",
      "           7       0.95      1.00      0.97        36\n",
      "           8       0.97      0.91      0.94        35\n",
      "           9       1.00      0.92      0.96        36\n",
      "\n",
      "    accuracy                           0.97       360\n",
      "   macro avg       0.97      0.97      0.97       360\n",
      "weighted avg       0.97      0.97      0.97       360\n",
      "\n"
     ]
    }
   ],
   "source": [
    "import xgboost as xgb\n",
    "\n",
    "# Ajustando os parâmetros\n",
    "param_grid = {\n",
    "    'n_estimators': [100, 200, 300],\n",
    "    'learning_rate': [0.01, 0.1, 0.3],\n",
    "    'max_depth': [5, 15, 25, None],\n",
    "    'min_child_weight': [1, 3, 5]\n",
    "    #'subsample': [0.7, 0.8, 0.9],\n",
    "    #'colsample_bytree': [0.7, 0.8, 0.9],\n",
    "    #'gamma': [0, 0.1, 0.2],\n",
    "    #'reg_alpha': [0, 0.1, 1.0],\n",
    "    #'reg_lambda': [0, 0.1, 1.0]\n",
    "}\n",
    "\n",
    "grid_search = GridSearchCV(estimator=xgb.XGBClassifier(tree_method=\"hist\", early_stopping_rounds=2), param_grid=param_grid, cv=5, n_jobs=-1, verbose=0)\n",
    "\n",
    "# Treinar o modelo de busca com GridSearch\n",
    "grid_search.fit(X_train, y_train, eval_set=[(X_test, y_test)], verbose=0)\n",
    "\n",
    "# Melhor modelo encontrado\n",
    "best_model2b = grid_search.best_estimator_\n",
    "\n",
    "#clf2b =  xgb.XGBClassifier(tree_method=\"hist\", early_stopping_rounds=2) \n",
    "#model2b = clf2b.fit(X_train, y_train, eval_set=[(X_test, y_test)])\n",
    "\n",
    "# Salvar modelo\n",
    "with open('modelo_ex21b.pkl', 'wb') as pickle_file:\n",
    "    pk.dump(best_model2b, pickle_file)\n",
    "\n",
    "y_pred_best2b = best_model2b.predict(X_test)\n",
    "\n",
    "print(f'Melhores Parâmetros: {grid_search.best_params_}')\n",
    "print(f'Acurácia: {accuracy_score(y_test, y_pred_best2b)}')\n",
    "\n",
    "print(confusion_matrix(y_test, y_pred_best2b))\n",
    "print(classification_report(y_test, y_pred_best2b))"
   ]
  }
 ],
 "metadata": {
  "kernelspec": {
   "display_name": "Python 3",
   "language": "python",
   "name": "python3"
  },
  "language_info": {
   "codemirror_mode": {
    "name": "ipython",
    "version": 3
   },
   "file_extension": ".py",
   "mimetype": "text/x-python",
   "name": "python",
   "nbconvert_exporter": "python",
   "pygments_lexer": "ipython3",
   "version": "3.10.13"
  }
 },
 "nbformat": 4,
 "nbformat_minor": 2
}
