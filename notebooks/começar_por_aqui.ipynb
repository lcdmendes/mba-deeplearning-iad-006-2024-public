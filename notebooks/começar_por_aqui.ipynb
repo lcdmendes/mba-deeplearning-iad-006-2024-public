{
 "cells": [
  {
   "cell_type": "markdown",
   "metadata": {},
   "source": [
    "Aqui está um código simples com sklearn para testar a execução de Python no Codespace com uma Decision Tree:"
   ]
  },
  {
   "cell_type": "code",
   "execution_count": 3,
   "metadata": {},
   "outputs": [
    {
     "name": "stdout",
     "output_type": "stream",
     "text": [
      "Precisão : 1.0\n"
     ]
    }
   ],
   "source": [
    "import numpy as np\n",
    "from sklearn.tree import DecisionTreeClassifier\n",
    "from sklearn.datasets import load_iris\n",
    "from sklearn.model_selection import train_test_split\n",
    "\n",
    "# Carregar o dataset Iris\n",
    "iris = load_iris()\n",
    "X = iris.data\n",
    "y = iris.target\n",
    "\n",
    "# Dividir o dataset em treinamento e teste\n",
    "X_train, X_test, y_train, y_test = train_test_split(X, y, test_size=0.2, random_state=42)\n",
    "\n",
    "# Criar uma Decision Tree\n",
    "clf = DecisionTreeClassifier(random_state=42)\n",
    "\n",
    "# Treinar a Decision Tree\n",
    "clf.fit(X_train, y_train)\n",
    "\n",
    "# Prever as classes para o conjunto de teste\n",
    "y_pred = clf.predict(X_test)\n",
    "\n",
    "# Imprimir a precisão da Decision Tree\n",
    "print(\"Precisão:\", clf.score(X_test, y_test))"
   ]
  },
  {
   "cell_type": "markdown",
   "metadata": {},
   "source": [
    "# Exercício 1"
   ]
  },
  {
   "cell_type": "code",
   "execution_count": 1,
   "metadata": {},
   "outputs": [
    {
     "name": "stdout",
     "output_type": "stream",
     "text": [
      "[[33  0  0  0  2  0  0  0  1  0]\n",
      " [ 0 27  1  0  2  1  0  0  4  1]\n",
      " [ 0  1 32  0  0  0  0  1  1  0]\n",
      " [ 0  1  2 30  0  2  0  0  2  0]\n",
      " [ 0  0  0  0 29  1  3  2  0  1]\n",
      " [ 0  0  0  3  0 34  0  0  0  0]\n",
      " [ 0  0  0  0  2  1 32  1  0  0]\n",
      " [ 0  0  0  1  1  0  0 33  1  0]\n",
      " [ 0  1  0  0  2  0  0  0 31  1]\n",
      " [ 0  0  0  1  0  1  0  0  2 32]]\n",
      "              precision    recall  f1-score   support\n",
      "\n",
      "           0       1.00      0.92      0.96        36\n",
      "           1       0.90      0.75      0.82        36\n",
      "           2       0.91      0.91      0.91        35\n",
      "           3       0.86      0.81      0.83        37\n",
      "           4       0.76      0.81      0.78        36\n",
      "           5       0.85      0.92      0.88        37\n",
      "           6       0.91      0.89      0.90        36\n",
      "           7       0.89      0.92      0.90        36\n",
      "           8       0.74      0.89      0.81        35\n",
      "           9       0.91      0.89      0.90        36\n",
      "\n",
      "    accuracy                           0.87       360\n",
      "   macro avg       0.87      0.87      0.87       360\n",
      "weighted avg       0.87      0.87      0.87       360\n",
      "\n"
     ]
    }
   ],
   "source": [
    "from sklearn.datasets import load_digits\n",
    "from sklearn import tree\n",
    "from sklearn.model_selection import train_test_split\n",
    "from sklearn.metrics import classification_report, confusion_matrix\n",
    "import pandas as pd\n",
    "import pickle as pk\n",
    "import matplotlib.pyplot as plt\n",
    "import seaborn as sns\n",
    "\n",
    "\n",
    "X = load_digits().data\n",
    "y = load_digits().target\n",
    "\n",
    "X_train, X_test, y_train, y_test = train_test_split(X, y, test_size=0.2, random_state=0, stratify=y)\n",
    "\n",
    "clf = tree.DecisionTreeClassifier(max_depth=None)\n",
    "model1 = clf.fit(X_train, y_train)\n",
    "\n",
    "# Salvar modelo\n",
    "with open('modelo_ex1.pkl', 'wb') as pickle_file:\n",
    "    pk.dump(model1, pickle_file)\n",
    "\n",
    "y_pred = clf.predict(X_test)\n",
    "\n",
    "print(confusion_matrix(y_test, y_pred))\n",
    "print(classification_report(y_test, y_pred))"
   ]
  },
  {
   "cell_type": "markdown",
   "metadata": {},
   "source": [
    "# Exercício 2"
   ]
  },
  {
   "cell_type": "code",
   "execution_count": 2,
   "metadata": {},
   "outputs": [
    {
     "name": "stdout",
     "output_type": "stream",
     "text": [
      "[[35  0  0  0  1  0  0  0  0  0]\n",
      " [ 0 36  0  0  0  0  0  0  0  0]\n",
      " [ 0  0 35  0  0  0  0  0  0  0]\n",
      " [ 0  0  0 34  0  0  0  1  2  0]\n",
      " [ 0  0  0  0 35  0  0  0  1  0]\n",
      " [ 0  0  0  0  0 37  0  0  0  0]\n",
      " [ 0  0  0  0  0  0 36  0  0  0]\n",
      " [ 0  0  0  0  0  0  0 36  0  0]\n",
      " [ 0  2  0  1  0  0  0  1 31  0]\n",
      " [ 0  1  0  0  0  1  0  0  0 34]]\n",
      "              precision    recall  f1-score   support\n",
      "\n",
      "           0       1.00      0.97      0.99        36\n",
      "           1       0.92      1.00      0.96        36\n",
      "           2       1.00      1.00      1.00        35\n",
      "           3       0.97      0.92      0.94        37\n",
      "           4       0.97      0.97      0.97        36\n",
      "           5       0.97      1.00      0.99        37\n",
      "           6       1.00      1.00      1.00        36\n",
      "           7       0.95      1.00      0.97        36\n",
      "           8       0.91      0.89      0.90        35\n",
      "           9       1.00      0.94      0.97        36\n",
      "\n",
      "    accuracy                           0.97       360\n",
      "   macro avg       0.97      0.97      0.97       360\n",
      "weighted avg       0.97      0.97      0.97       360\n",
      "\n"
     ]
    }
   ],
   "source": [
    "from sklearn.ensemble import RandomForestClassifier\n",
    "\n",
    "clf2a = RandomForestClassifier(n_estimators=100, random_state=42)\n",
    "model2a = clf2a.fit(X_train, y_train)\n",
    "\n",
    "# Salvar modelo\n",
    "with open('modelo_ex21a.pkl', 'wb') as pickle_file:\n",
    "    pk.dump(model2a, pickle_file)\n",
    "\n",
    "y_pred2a = clf2a.predict(X_test)\n",
    "\n",
    "print(confusion_matrix(y_test, y_pred2a))\n",
    "print(classification_report(y_test, y_pred2a))"
   ]
  },
  {
   "cell_type": "code",
   "execution_count": 4,
   "metadata": {},
   "outputs": [
    {
     "name": "stdout",
     "output_type": "stream",
     "text": [
      "[0]\tvalidation_0-mlogloss:1.39540\n",
      "[1]\tvalidation_0-mlogloss:1.07021\n",
      "[2]\tvalidation_0-mlogloss:0.85838\n",
      "[3]\tvalidation_0-mlogloss:0.70738\n",
      "[4]\tvalidation_0-mlogloss:0.59879\n",
      "[5]\tvalidation_0-mlogloss:0.51443\n",
      "[6]\tvalidation_0-mlogloss:0.44744\n",
      "[7]\tvalidation_0-mlogloss:0.39825\n",
      "[8]\tvalidation_0-mlogloss:0.35675\n",
      "[9]\tvalidation_0-mlogloss:0.32266\n",
      "[10]\tvalidation_0-mlogloss:0.29744\n",
      "[11]\tvalidation_0-mlogloss:0.27312\n",
      "[12]\tvalidation_0-mlogloss:0.24955\n",
      "[13]\tvalidation_0-mlogloss:0.23252\n",
      "[14]\tvalidation_0-mlogloss:0.22036\n",
      "[15]\tvalidation_0-mlogloss:0.20657\n"
     ]
    },
    {
     "name": "stdout",
     "output_type": "stream",
     "text": [
      "[16]\tvalidation_0-mlogloss:0.19703\n",
      "[17]\tvalidation_0-mlogloss:0.18856\n",
      "[18]\tvalidation_0-mlogloss:0.18145\n",
      "[19]\tvalidation_0-mlogloss:0.17409\n",
      "[20]\tvalidation_0-mlogloss:0.16829\n",
      "[21]\tvalidation_0-mlogloss:0.16348\n",
      "[22]\tvalidation_0-mlogloss:0.15896\n",
      "[23]\tvalidation_0-mlogloss:0.15561\n",
      "[24]\tvalidation_0-mlogloss:0.15333\n",
      "[25]\tvalidation_0-mlogloss:0.15042\n",
      "[26]\tvalidation_0-mlogloss:0.14803\n",
      "[27]\tvalidation_0-mlogloss:0.14521\n",
      "[28]\tvalidation_0-mlogloss:0.14359\n",
      "[29]\tvalidation_0-mlogloss:0.14147\n",
      "[30]\tvalidation_0-mlogloss:0.14040\n",
      "[31]\tvalidation_0-mlogloss:0.14006\n",
      "[32]\tvalidation_0-mlogloss:0.13729\n",
      "[33]\tvalidation_0-mlogloss:0.13622\n",
      "[34]\tvalidation_0-mlogloss:0.13486\n",
      "[35]\tvalidation_0-mlogloss:0.13441\n",
      "[36]\tvalidation_0-mlogloss:0.13390\n",
      "[37]\tvalidation_0-mlogloss:0.13339\n",
      "[38]\tvalidation_0-mlogloss:0.13209\n",
      "[39]\tvalidation_0-mlogloss:0.13154\n",
      "[40]\tvalidation_0-mlogloss:0.13040\n",
      "[41]\tvalidation_0-mlogloss:0.12951\n",
      "[42]\tvalidation_0-mlogloss:0.12874\n",
      "[43]\tvalidation_0-mlogloss:0.12745\n",
      "[44]\tvalidation_0-mlogloss:0.12740\n",
      "[45]\tvalidation_0-mlogloss:0.12692\n",
      "[46]\tvalidation_0-mlogloss:0.12665\n",
      "[47]\tvalidation_0-mlogloss:0.12596\n",
      "[48]\tvalidation_0-mlogloss:0.12561\n",
      "[49]\tvalidation_0-mlogloss:0.12523\n",
      "[50]\tvalidation_0-mlogloss:0.12520\n",
      "[51]\tvalidation_0-mlogloss:0.12492\n",
      "[52]\tvalidation_0-mlogloss:0.12487\n",
      "[53]\tvalidation_0-mlogloss:0.12462\n",
      "[54]\tvalidation_0-mlogloss:0.12446\n",
      "[55]\tvalidation_0-mlogloss:0.12421\n",
      "[56]\tvalidation_0-mlogloss:0.12374\n",
      "[57]\tvalidation_0-mlogloss:0.12393\n",
      "[[35  0  0  0  1  0  0  0  0  0]\n",
      " [ 0 34  1  0  0  0  0  0  1  0]\n",
      " [ 0  0 35  0  0  0  0  0  0  0]\n",
      " [ 0  0  0 36  0  0  0  0  1  0]\n",
      " [ 0  0  0  0 34  0  0  0  2  0]\n",
      " [ 0  0  0  0  0 36  0  0  0  1]\n",
      " [ 0  0  1  0  0  0 35  0  0  0]\n",
      " [ 0  0  0  0  0  0  0 36  0  0]\n",
      " [ 0  3  0  1  0  0  0  0 31  0]\n",
      " [ 0  0  0  0  0  2  0  0  0 34]]\n",
      "              precision    recall  f1-score   support\n",
      "\n",
      "           0       1.00      0.97      0.99        36\n",
      "           1       0.92      0.94      0.93        36\n",
      "           2       0.95      1.00      0.97        35\n",
      "           3       0.97      0.97      0.97        37\n",
      "           4       0.97      0.94      0.96        36\n",
      "           5       0.95      0.97      0.96        37\n",
      "           6       1.00      0.97      0.99        36\n",
      "           7       1.00      1.00      1.00        36\n",
      "           8       0.89      0.89      0.89        35\n",
      "           9       0.97      0.94      0.96        36\n",
      "\n",
      "    accuracy                           0.96       360\n",
      "   macro avg       0.96      0.96      0.96       360\n",
      "weighted avg       0.96      0.96      0.96       360\n",
      "\n"
     ]
    }
   ],
   "source": [
    "import xgboost as xgb\n",
    "\n",
    "clf2b =  xgb.XGBClassifier(tree_method=\"hist\", early_stopping_rounds=2) \n",
    "model2b = clf2b.fit(X_train, y_train, eval_set=[(X_test, y_test)])\n",
    "\n",
    "# Salvar modelo\n",
    "with open('modelo_ex21b.pkl', 'wb') as pickle_file:\n",
    "    pk.dump(model2b, pickle_file)\n",
    "\n",
    "y_pred2b = clf2b.predict(X_test)\n",
    "\n",
    "print(confusion_matrix(y_test, y_pred2b))\n",
    "print(classification_report(y_test, y_pred2b))"
   ]
  }
 ],
 "metadata": {
  "kernelspec": {
   "display_name": "Python 3",
   "language": "python",
   "name": "python3"
  },
  "language_info": {
   "codemirror_mode": {
    "name": "ipython",
    "version": 3
   },
   "file_extension": ".py",
   "mimetype": "text/x-python",
   "name": "python",
   "nbconvert_exporter": "python",
   "pygments_lexer": "ipython3",
   "version": "3.10.13"
  }
 },
 "nbformat": 4,
 "nbformat_minor": 2
}
