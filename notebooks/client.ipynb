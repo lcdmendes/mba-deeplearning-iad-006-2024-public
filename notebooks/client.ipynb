{
 "cells": [
  {
   "cell_type": "markdown",
   "metadata": {},
   "source": [
    "# Client para envio das imagens ao docker\n",
    "\n",
    "## Visualizando as imagens a ser enviadas"
   ]
  },
  {
   "cell_type": "code",
   "execution_count": 24,
   "metadata": {},
   "outputs": [
    {
     "data": {
      "image/png": "[encoded data removed]",
      "text/plain": [
       "<Figure size 640x480 with 3 Axes>"
      ]
     },
     "metadata": {},
     "output_type": "display_data"
    }
   ],
   "source": [
    "import matplotlib.pyplot as plt\n",
    "import matplotlib.image as mpimg\n",
    "\n",
    "img1 = mpimg.imread('../imagens/imagem_negativa.png')\n",
    "img2 = mpimg.imread('../imagens/imagem_positiva_ruido.png')\n",
    "img3 = mpimg.imread('../imagens/imagem_positiva.png')\n",
    "\n",
    "f, ax = plt.subplots(1,3)\n",
    "ax[0].imshow(img1)\n",
    "ax[1].imshow(img2)\n",
    "ax[2].imshow(img3)\n",
    "\n",
    "ax[0].title.set_text('Negativa')\n",
    "ax[1].title.set_text('Positiva Ruido')\n",
    "ax[2].title.set_text('Positiva')\n",
    "plt.show()"
   ]
  },
  {
   "cell_type": "code",
   "execution_count": 25,
   "metadata": {},
   "outputs": [
    {
     "name": "stdout",
     "output_type": "stream",
     "text": [
      "(8, 8, 4)\n"
     ]
    }
   ],
   "source": [
    "print(img1.shape)"
   ]
  },
  {
   "cell_type": "markdown",
   "metadata": {},
   "source": [
    "## Enviando mensagens"
   ]
  },
  {
   "cell_type": "code",
   "execution_count": 43,
   "metadata": {},
   "outputs": [
    {
     "name": "stdout",
     "output_type": "stream",
     "text": [
      "Resposta imagem positiva:  {\"prediction\":0.0}\n"
     ]
    }
   ],
   "source": [
    "import requests\n",
    "\n",
    "url = 'http://127.0.0.1:8000/predict'\n",
    "file_path = '../imagens/imagem_positiva.png'\n",
    "\n",
    "with open(file_path, \"rb\") as file:\n",
    "    files = {\"file\": (\"imagem_positiva.png\", file, \"image/png\")}\n",
    "    response = requests.post(url, files=files)\n",
    "\n",
    "print(\"Resposta imagem positiva: \", response.text)"
   ]
  },
  {
   "cell_type": "code",
   "execution_count": 44,
   "metadata": {},
   "outputs": [
    {
     "name": "stdout",
     "output_type": "stream",
     "text": [
      "Resposta imagem positiva ruido:  {\"prediction\":0.0}\n"
     ]
    }
   ],
   "source": [
    "file_path = '../imagens/imagem_positiva_ruido.png'\n",
    "\n",
    "with open(file_path, \"rb\") as file:\n",
    "    files = {\"file\": (\"imagem_positiva_ruido.png\", file, \"image/png\")}\n",
    "    response = requests.post(url, files=files)\n",
    "\n",
    "print(\"Resposta imagem positiva ruido: \", response.text)"
   ]
  },
  {
   "cell_type": "code",
   "execution_count": 45,
   "metadata": {},
   "outputs": [
    {
     "name": "stdout",
     "output_type": "stream",
     "text": [
      "Resposta imagem negativa:  {\"prediction\":1.0}\n"
     ]
    }
   ],
   "source": [
    "file_path = '../imagens/imagem_negativa.png'\n",
    "\n",
    "with open(file_path, \"rb\") as file:\n",
    "    files = {\"file\": (\"imagem_negativa.png\", file, \"image/png\")}\n",
    "    response = requests.post(url, files=files)\n",
    "\n",
    "print(\"Resposta imagem negativa: \", response.text)"
   ]
  }
 ],
 "metadata": {
  "kernelspec": {
   "display_name": "Python 3",
   "language": "python",
   "name": "python3"
  },
  "language_info": {
   "codemirror_mode": {
    "name": "ipython",
    "version": 3
   },
   "file_extension": ".py",
   "mimetype": "text/x-python",
   "name": "python",
   "nbconvert_exporter": "python",
   "pygments_lexer": "ipython3",
   "version": "3.10.13"
  }
 },
 "nbformat": 4,
 "nbformat_minor": 2
}
